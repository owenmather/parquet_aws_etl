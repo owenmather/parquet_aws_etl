{
 "cells": [
  {
   "cell_type": "code",
   "execution_count": 20,
   "metadata": {
    "pycharm": {
     "is_executing": true
    }
   },
   "outputs": [
    {
     "data": {
      "text/html": [
       "<div>\n",
       "<style scoped>\n",
       "    .dataframe tbody tr th:only-of-type {\n",
       "        vertical-align: middle;\n",
       "    }\n",
       "\n",
       "    .dataframe tbody tr th {\n",
       "        vertical-align: top;\n",
       "    }\n",
       "\n",
       "    .dataframe thead th {\n",
       "        text-align: right;\n",
       "    }\n",
       "</style>\n",
       "<table border=\"1\" class=\"dataframe\">\n",
       "  <thead>\n",
       "    <tr style=\"text-align: right;\">\n",
       "      <th></th>\n",
       "      <th>name</th>\n",
       "      <th>value</th>\n",
       "      <th>start_date</th>\n",
       "      <th>end_date</th>\n",
       "      <th>year_week</th>\n",
       "      <th>has_subtrackers</th>\n",
       "      <th>token</th>\n",
       "      <th>dataplatform_inserted_at</th>\n",
       "      <th>country</th>\n",
       "      <th>os_name</th>\n",
       "    </tr>\n",
       "  </thead>\n",
       "  <tbody>\n",
       "    <tr>\n",
       "      <th>0</th>\n",
       "      <td>Website</td>\n",
       "      <td>0.0</td>\n",
       "      <td>2020-12-17</td>\n",
       "      <td>2020-12-17</td>\n",
       "      <td>2020_51</td>\n",
       "      <td>True</td>\n",
       "      <td>17xptrn</td>\n",
       "      <td>2020-12-24 13:12:53.538505</td>\n",
       "      <td>GB</td>\n",
       "      <td>ios</td>\n",
       "    </tr>\n",
       "    <tr>\n",
       "      <th>1</th>\n",
       "      <td>Email</td>\n",
       "      <td>0.0</td>\n",
       "      <td>2020-12-17</td>\n",
       "      <td>2020-12-17</td>\n",
       "      <td>2020_51</td>\n",
       "      <td>True</td>\n",
       "      <td>dy3vti6</td>\n",
       "      <td>2020-12-24 13:12:53.538505</td>\n",
       "      <td>GB</td>\n",
       "      <td>ios</td>\n",
       "    </tr>\n",
       "    <tr>\n",
       "      <th>2</th>\n",
       "      <td>Instagram Installs</td>\n",
       "      <td>1.0</td>\n",
       "      <td>2020-12-17</td>\n",
       "      <td>2020-12-17</td>\n",
       "      <td>2020_51</td>\n",
       "      <td>True</td>\n",
       "      <td>ew373nn</td>\n",
       "      <td>2020-12-24 13:12:53.538505</td>\n",
       "      <td>GB</td>\n",
       "      <td>ios</td>\n",
       "    </tr>\n",
       "    <tr>\n",
       "      <th>3</th>\n",
       "      <td>Google Ads UAC</td>\n",
       "      <td>7.0</td>\n",
       "      <td>2020-12-17</td>\n",
       "      <td>2020-12-17</td>\n",
       "      <td>2020_51</td>\n",
       "      <td>True</td>\n",
       "      <td>f91turk</td>\n",
       "      <td>2020-12-24 13:12:53.538505</td>\n",
       "      <td>GB</td>\n",
       "      <td>ios</td>\n",
       "    </tr>\n",
       "    <tr>\n",
       "      <th>4</th>\n",
       "      <td>Facebook Installs</td>\n",
       "      <td>1.0</td>\n",
       "      <td>2020-12-17</td>\n",
       "      <td>2020-12-17</td>\n",
       "      <td>2020_51</td>\n",
       "      <td>True</td>\n",
       "      <td>iongxw7</td>\n",
       "      <td>2020-12-24 13:12:53.538505</td>\n",
       "      <td>GB</td>\n",
       "      <td>ios</td>\n",
       "    </tr>\n",
       "  </tbody>\n",
       "</table>\n",
       "</div>"
      ],
      "text/plain": [
       "                 name  value start_date   end_date year_week  has_subtrackers  \\\n",
       "0             Website    0.0 2020-12-17 2020-12-17   2020_51             True   \n",
       "1               Email    0.0 2020-12-17 2020-12-17   2020_51             True   \n",
       "2  Instagram Installs    1.0 2020-12-17 2020-12-17   2020_51             True   \n",
       "3      Google Ads UAC    7.0 2020-12-17 2020-12-17   2020_51             True   \n",
       "4   Facebook Installs    1.0 2020-12-17 2020-12-17   2020_51             True   \n",
       "\n",
       "     token   dataplatform_inserted_at country os_name  \n",
       "0  17xptrn 2020-12-24 13:12:53.538505      GB     ios  \n",
       "1  dy3vti6 2020-12-24 13:12:53.538505      GB     ios  \n",
       "2  ew373nn 2020-12-24 13:12:53.538505      GB     ios  \n",
       "3  f91turk 2020-12-24 13:12:53.538505      GB     ios  \n",
       "4  iongxw7 2020-12-24 13:12:53.538505      GB     ios  "
      ]
     },
     "execution_count": 20,
     "metadata": {},
     "output_type": "execute_result"
    }
   ],
   "source": [
    "# Test interaction with sample dataset\n",
    "\n",
    "import os\n",
    "import pandas as pd\n",
    "\n",
    "IN_FILE = os.environ.get(\"IN_FILE\", \"../lambda/data/sample-file-assessment.snappy.parquet\")\n",
    "\n",
    "df = pd.read_parquet(IN_FILE)\n",
    "df.head()"
   ]
  },
  {
   "cell_type": "code",
   "execution_count": 21,
   "metadata": {},
   "outputs": [
    {
     "data": {
      "text/plain": [
       "name                                object\n",
       "value                              float32\n",
       "start_date                  datetime64[ns]\n",
       "end_date                    datetime64[ns]\n",
       "year_week                           object\n",
       "has_subtrackers                    boolean\n",
       "token                               object\n",
       "dataplatform_inserted_at    datetime64[ns]\n",
       "country                             object\n",
       "os_name                             object\n",
       "dtype: object"
      ]
     },
     "execution_count": 21,
     "metadata": {},
     "output_type": "execute_result"
    }
   ],
   "source": [
    "# Check the datatypes for each column\n",
    "df.dtypes"
   ]
  },
  {
   "cell_type": "code",
   "execution_count": 22,
   "metadata": {},
   "outputs": [
    {
     "data": {
      "text/plain": [
       "ALL    5282\n",
       "GB     2422\n",
       "IT      950\n",
       "FR      676\n",
       "Name: country, dtype: int64"
      ]
     },
     "execution_count": 22,
     "metadata": {},
     "output_type": "execute_result"
    }
   ],
   "source": [
    "# Check the count of unique values in name. Indicates we can use category not string types here\n",
    "df[\"name\"].value_counts()"
   ]
  },
  {
   "cell_type": "code",
   "execution_count": 23,
   "metadata": {},
   "outputs": [
    {
     "name": "stdout",
     "output_type": "stream",
     "text": [
      "Name column currently using 74640 bytes\n"
     ]
    }
   ],
   "source": [
    "old_mem_usage = df[\"name\"].nbytes\n",
    "print(f\"Name column currently using {old_mem_usage} bytes\")"
   ]
  },
  {
   "cell_type": "code",
   "execution_count": 24,
   "metadata": {},
   "outputs": [],
   "source": [
    "# Convert name to a categorical datatype\n",
    "df[\"name\"] = df[\"name\"].astype(\"category\")\n",
    "# Value can be changed to int\n",
    "df[\"value\"] = df[\"value\"].astype(\"int\")"
   ]
  },
  {
   "cell_type": "code",
   "execution_count": 25,
   "metadata": {},
   "outputs": [
    {
     "name": "stdout",
     "output_type": "stream",
     "text": [
      "Now 9538 : 65102 bytes reduced by switching to category dtype\n"
     ]
    }
   ],
   "source": [
    "# Mem reduction by type change\n",
    "print(f\"Now {df['name'].nbytes} : {old_mem_usage - df['name'].nbytes} bytes reduced by switching to category dtype\")"
   ]
  },
  {
   "cell_type": "code",
   "execution_count": 26,
   "metadata": {},
   "outputs": [],
   "source": [
    "# Country and os_name can also be categories\n",
    "df[[\"country\",\"os_name\",\"year_week\"]] = df[[\"country\",\"os_name\",\"year_week\"]].astype(\"category\")"
   ]
  },
  {
   "cell_type": "code",
   "execution_count": 27,
   "metadata": {},
   "outputs": [
    {
     "data": {
      "text/plain": [
       "False"
      ]
     },
     "execution_count": 27,
     "metadata": {},
     "output_type": "execute_result"
    }
   ],
   "source": [
    "# Check if we have any empty values in our dateset ~ would indicate potential for cleaning\n",
    "df.isnull().values.any()"
   ]
  },
  {
   "cell_type": "code",
   "execution_count": 28,
   "metadata": {},
   "outputs": [
    {
     "data": {
      "text/plain": [
       "True"
      ]
     },
     "execution_count": 28,
     "metadata": {},
     "output_type": "execute_result"
    }
   ],
   "source": [
    "# Potenital column duplication if start_date always == end_date.\n",
    "len(df[df[\"start_date\"] != df[\"end_date\"]]) == 0"
   ]
  },
  {
   "cell_type": "code",
   "execution_count": 29,
   "metadata": {},
   "outputs": [
    {
     "data": {
      "text/html": [
       "<div>\n",
       "<style scoped>\n",
       "    .dataframe tbody tr th:only-of-type {\n",
       "        vertical-align: middle;\n",
       "    }\n",
       "\n",
       "    .dataframe tbody tr th {\n",
       "        vertical-align: top;\n",
       "    }\n",
       "\n",
       "    .dataframe thead th {\n",
       "        text-align: right;\n",
       "    }\n",
       "</style>\n",
       "<table border=\"1\" class=\"dataframe\">\n",
       "  <thead>\n",
       "    <tr style=\"text-align: right;\">\n",
       "      <th></th>\n",
       "      <th>name</th>\n",
       "      <th>value</th>\n",
       "      <th>year_week</th>\n",
       "    </tr>\n",
       "  </thead>\n",
       "  <tbody>\n",
       "    <tr>\n",
       "      <th>0</th>\n",
       "      <td>Website</td>\n",
       "      <td>0</td>\n",
       "      <td>2020_51</td>\n",
       "    </tr>\n",
       "    <tr>\n",
       "      <th>1</th>\n",
       "      <td>Email</td>\n",
       "      <td>0</td>\n",
       "      <td>2020_51</td>\n",
       "    </tr>\n",
       "    <tr>\n",
       "      <th>2</th>\n",
       "      <td>Instagram Installs</td>\n",
       "      <td>1</td>\n",
       "      <td>2020_51</td>\n",
       "    </tr>\n",
       "    <tr>\n",
       "      <th>3</th>\n",
       "      <td>Google Ads UAC</td>\n",
       "      <td>7</td>\n",
       "      <td>2020_51</td>\n",
       "    </tr>\n",
       "    <tr>\n",
       "      <th>4</th>\n",
       "      <td>Facebook Installs</td>\n",
       "      <td>1</td>\n",
       "      <td>2020_51</td>\n",
       "    </tr>\n",
       "  </tbody>\n",
       "</table>\n",
       "</div>"
      ],
      "text/plain": [
       "                 name  value year_week\n",
       "0             Website      0   2020_51\n",
       "1               Email      0   2020_51\n",
       "2  Instagram Installs      1   2020_51\n",
       "3      Google Ads UAC      7   2020_51\n",
       "4   Facebook Installs      1   2020_51"
      ]
     },
     "execution_count": 29,
     "metadata": {},
     "output_type": "execute_result"
    }
   ],
   "source": [
    "# Example Transform: Computing the weekly highest values for each name\n",
    "\n",
    "# Drop columns we will not use - everything after year_week and start+end date columns\n",
    "df.drop(columns=list(df.columns[5:])+[\"start_date\",\"end_date\"],inplace=True)\n",
    "df.head()"
   ]
  },
  {
   "cell_type": "code",
   "execution_count": 30,
   "metadata": {},
   "outputs": [
    {
     "data": {
      "text/html": [
       "<div>\n",
       "<style scoped>\n",
       "    .dataframe tbody tr th:only-of-type {\n",
       "        vertical-align: middle;\n",
       "    }\n",
       "\n",
       "    .dataframe tbody tr th {\n",
       "        vertical-align: top;\n",
       "    }\n",
       "\n",
       "    .dataframe thead th {\n",
       "        text-align: right;\n",
       "    }\n",
       "</style>\n",
       "<table border=\"1\" class=\"dataframe\">\n",
       "  <thead>\n",
       "    <tr style=\"text-align: right;\">\n",
       "      <th></th>\n",
       "      <th>name</th>\n",
       "      <th>value</th>\n",
       "      <th>year_week</th>\n",
       "      <th>week_total</th>\n",
       "    </tr>\n",
       "  </thead>\n",
       "  <tbody>\n",
       "    <tr>\n",
       "      <th>0</th>\n",
       "      <td>Website</td>\n",
       "      <td>0</td>\n",
       "      <td>2020_51</td>\n",
       "      <td>18</td>\n",
       "    </tr>\n",
       "    <tr>\n",
       "      <th>1</th>\n",
       "      <td>Email</td>\n",
       "      <td>0</td>\n",
       "      <td>2020_51</td>\n",
       "      <td>0</td>\n",
       "    </tr>\n",
       "    <tr>\n",
       "      <th>2</th>\n",
       "      <td>Instagram Installs</td>\n",
       "      <td>1</td>\n",
       "      <td>2020_51</td>\n",
       "      <td>180</td>\n",
       "    </tr>\n",
       "    <tr>\n",
       "      <th>3</th>\n",
       "      <td>Google Ads UAC</td>\n",
       "      <td>7</td>\n",
       "      <td>2020_51</td>\n",
       "      <td>1090</td>\n",
       "    </tr>\n",
       "    <tr>\n",
       "      <th>4</th>\n",
       "      <td>Facebook Installs</td>\n",
       "      <td>1</td>\n",
       "      <td>2020_51</td>\n",
       "      <td>80</td>\n",
       "    </tr>\n",
       "  </tbody>\n",
       "</table>\n",
       "</div>"
      ],
      "text/plain": [
       "                 name  value year_week  week_total\n",
       "0             Website      0   2020_51          18\n",
       "1               Email      0   2020_51           0\n",
       "2  Instagram Installs      1   2020_51         180\n",
       "3      Google Ads UAC      7   2020_51        1090\n",
       "4   Facebook Installs      1   2020_51          80"
      ]
     },
     "execution_count": 30,
     "metadata": {},
     "output_type": "execute_result"
    }
   ],
   "source": [
    "# Sum the values by name category for each year_week\n",
    "df[\"week_total\"] = df.groupby(['year_week','name'])[\"value\"].transform('sum')\n",
    "df.head()"
   ]
  },
  {
   "cell_type": "code",
   "execution_count": 31,
   "metadata": {},
   "outputs": [
    {
     "data": {
      "text/html": [
       "<div>\n",
       "<style scoped>\n",
       "    .dataframe tbody tr th:only-of-type {\n",
       "        vertical-align: middle;\n",
       "    }\n",
       "\n",
       "    .dataframe tbody tr th {\n",
       "        vertical-align: top;\n",
       "    }\n",
       "\n",
       "    .dataframe thead th {\n",
       "        text-align: right;\n",
       "    }\n",
       "</style>\n",
       "<table border=\"1\" class=\"dataframe\">\n",
       "  <thead>\n",
       "    <tr style=\"text-align: right;\">\n",
       "      <th></th>\n",
       "      <th>name</th>\n",
       "      <th>value</th>\n",
       "      <th>year_week</th>\n",
       "      <th>week_total</th>\n",
       "      <th>week_max</th>\n",
       "    </tr>\n",
       "  </thead>\n",
       "  <tbody>\n",
       "    <tr>\n",
       "      <th>0</th>\n",
       "      <td>Website</td>\n",
       "      <td>0</td>\n",
       "      <td>2020_51</td>\n",
       "      <td>18</td>\n",
       "      <td>2536</td>\n",
       "    </tr>\n",
       "    <tr>\n",
       "      <th>1</th>\n",
       "      <td>Email</td>\n",
       "      <td>0</td>\n",
       "      <td>2020_51</td>\n",
       "      <td>0</td>\n",
       "      <td>2536</td>\n",
       "    </tr>\n",
       "    <tr>\n",
       "      <th>2</th>\n",
       "      <td>Instagram Installs</td>\n",
       "      <td>1</td>\n",
       "      <td>2020_51</td>\n",
       "      <td>180</td>\n",
       "      <td>2536</td>\n",
       "    </tr>\n",
       "    <tr>\n",
       "      <th>3</th>\n",
       "      <td>Google Ads UAC</td>\n",
       "      <td>7</td>\n",
       "      <td>2020_51</td>\n",
       "      <td>1090</td>\n",
       "      <td>2536</td>\n",
       "    </tr>\n",
       "    <tr>\n",
       "      <th>4</th>\n",
       "      <td>Facebook Installs</td>\n",
       "      <td>1</td>\n",
       "      <td>2020_51</td>\n",
       "      <td>80</td>\n",
       "      <td>2536</td>\n",
       "    </tr>\n",
       "  </tbody>\n",
       "</table>\n",
       "</div>"
      ],
      "text/plain": [
       "                 name  value year_week  week_total  week_max\n",
       "0             Website      0   2020_51          18      2536\n",
       "1               Email      0   2020_51           0      2536\n",
       "2  Instagram Installs      1   2020_51         180      2536\n",
       "3      Google Ads UAC      7   2020_51        1090      2536\n",
       "4   Facebook Installs      1   2020_51          80      2536"
      ]
     },
     "execution_count": 31,
     "metadata": {},
     "output_type": "execute_result"
    }
   ],
   "source": [
    "# Compute the max value for each week\n",
    "df[\"week_max\"] = df.groupby(['year_week'])[\"week_total\"].transform('max')\n",
    "df.head()"
   ]
  },
  {
   "cell_type": "code",
   "execution_count": 32,
   "metadata": {},
   "outputs": [
    {
     "data": {
      "text/html": [
       "<div>\n",
       "<style scoped>\n",
       "    .dataframe tbody tr th:only-of-type {\n",
       "        vertical-align: middle;\n",
       "    }\n",
       "\n",
       "    .dataframe tbody tr th {\n",
       "        vertical-align: top;\n",
       "    }\n",
       "\n",
       "    .dataframe thead th {\n",
       "        text-align: right;\n",
       "    }\n",
       "</style>\n",
       "<table border=\"1\" class=\"dataframe\">\n",
       "  <thead>\n",
       "    <tr style=\"text-align: right;\">\n",
       "      <th></th>\n",
       "      <th>name</th>\n",
       "      <th>value</th>\n",
       "      <th>year_week</th>\n",
       "      <th>week_total</th>\n",
       "      <th>week_max</th>\n",
       "    </tr>\n",
       "  </thead>\n",
       "  <tbody>\n",
       "    <tr>\n",
       "      <th>9</th>\n",
       "      <td>Organic</td>\n",
       "      <td>46</td>\n",
       "      <td>2020_51</td>\n",
       "      <td>2536</td>\n",
       "      <td>2536</td>\n",
       "    </tr>\n",
       "    <tr>\n",
       "      <th>23</th>\n",
       "      <td>Organic</td>\n",
       "      <td>33</td>\n",
       "      <td>2020_51</td>\n",
       "      <td>2536</td>\n",
       "      <td>2536</td>\n",
       "    </tr>\n",
       "    <tr>\n",
       "      <th>35</th>\n",
       "      <td>Organic</td>\n",
       "      <td>79</td>\n",
       "      <td>2020_51</td>\n",
       "      <td>2536</td>\n",
       "      <td>2536</td>\n",
       "    </tr>\n",
       "    <tr>\n",
       "      <th>44</th>\n",
       "      <td>Organic</td>\n",
       "      <td>4</td>\n",
       "      <td>2020_51</td>\n",
       "      <td>2536</td>\n",
       "      <td>2536</td>\n",
       "    </tr>\n",
       "    <tr>\n",
       "      <th>46</th>\n",
       "      <td>Organic</td>\n",
       "      <td>0</td>\n",
       "      <td>2020_51</td>\n",
       "      <td>2536</td>\n",
       "      <td>2536</td>\n",
       "    </tr>\n",
       "  </tbody>\n",
       "</table>\n",
       "</div>"
      ],
      "text/plain": [
       "       name  value year_week  week_total  week_max\n",
       "9   Organic     46   2020_51        2536      2536\n",
       "23  Organic     33   2020_51        2536      2536\n",
       "35  Organic     79   2020_51        2536      2536\n",
       "44  Organic      4   2020_51        2536      2536\n",
       "46  Organic      0   2020_51        2536      2536"
      ]
     },
     "execution_count": 32,
     "metadata": {},
     "output_type": "execute_result"
    }
   ],
   "source": [
    "# Select the rows where the Weekly Total is the Weekly Max\n",
    "df = df[df[\"week_max\"] == df[\"week_total\"]]\n",
    "df.head()"
   ]
  },
  {
   "cell_type": "code",
   "execution_count": 33,
   "metadata": {},
   "outputs": [
    {
     "data": {
      "text/html": [
       "<div>\n",
       "<style scoped>\n",
       "    .dataframe tbody tr th:only-of-type {\n",
       "        vertical-align: middle;\n",
       "    }\n",
       "\n",
       "    .dataframe tbody tr th {\n",
       "        vertical-align: top;\n",
       "    }\n",
       "\n",
       "    .dataframe thead th {\n",
       "        text-align: right;\n",
       "    }\n",
       "</style>\n",
       "<table border=\"1\" class=\"dataframe\">\n",
       "  <thead>\n",
       "    <tr style=\"text-align: right;\">\n",
       "      <th></th>\n",
       "      <th>name</th>\n",
       "      <th>value</th>\n",
       "      <th>year_week</th>\n",
       "      <th>week_total</th>\n",
       "      <th>week_max</th>\n",
       "    </tr>\n",
       "  </thead>\n",
       "  <tbody>\n",
       "    <tr>\n",
       "      <th>0</th>\n",
       "      <td>Organic</td>\n",
       "      <td>46</td>\n",
       "      <td>2020_51</td>\n",
       "      <td>2536</td>\n",
       "      <td>2536</td>\n",
       "    </tr>\n",
       "    <tr>\n",
       "      <th>1</th>\n",
       "      <td>Organic</td>\n",
       "      <td>3</td>\n",
       "      <td>2020_40</td>\n",
       "      <td>3362</td>\n",
       "      <td>3362</td>\n",
       "    </tr>\n",
       "    <tr>\n",
       "      <th>2</th>\n",
       "      <td>Organic</td>\n",
       "      <td>3</td>\n",
       "      <td>2020_41</td>\n",
       "      <td>5468</td>\n",
       "      <td>5468</td>\n",
       "    </tr>\n",
       "    <tr>\n",
       "      <th>3</th>\n",
       "      <td>Organic</td>\n",
       "      <td>2</td>\n",
       "      <td>2020_42</td>\n",
       "      <td>5552</td>\n",
       "      <td>5552</td>\n",
       "    </tr>\n",
       "    <tr>\n",
       "      <th>4</th>\n",
       "      <td>Organic</td>\n",
       "      <td>1</td>\n",
       "      <td>2020_43</td>\n",
       "      <td>5998</td>\n",
       "      <td>5998</td>\n",
       "    </tr>\n",
       "  </tbody>\n",
       "</table>\n",
       "</div>"
      ],
      "text/plain": [
       "      name  value year_week  week_total  week_max\n",
       "0  Organic     46   2020_51        2536      2536\n",
       "1  Organic      3   2020_40        3362      3362\n",
       "2  Organic      3   2020_41        5468      5468\n",
       "3  Organic      2   2020_42        5552      5552\n",
       "4  Organic      1   2020_43        5998      5998"
      ]
     },
     "execution_count": 33,
     "metadata": {},
     "output_type": "execute_result"
    }
   ],
   "source": [
    "# Remove the duplicate (name,year_week) keys and reset the indexes\n",
    "df.drop_duplicates([\"name\",\"year_week\"], inplace=True)\n",
    "\n",
    "\n",
    "df.reset_index(drop=True, inplace=True)\n",
    "df.head()"
   ]
  },
  {
   "cell_type": "code",
   "execution_count": 34,
   "metadata": {},
   "outputs": [
    {
     "data": {
      "text/html": [
       "<div>\n",
       "<style scoped>\n",
       "    .dataframe tbody tr th:only-of-type {\n",
       "        vertical-align: middle;\n",
       "    }\n",
       "\n",
       "    .dataframe tbody tr th {\n",
       "        vertical-align: top;\n",
       "    }\n",
       "\n",
       "    .dataframe thead th {\n",
       "        text-align: right;\n",
       "    }\n",
       "</style>\n",
       "<table border=\"1\" class=\"dataframe\">\n",
       "  <thead>\n",
       "    <tr style=\"text-align: right;\">\n",
       "      <th></th>\n",
       "      <th>name</th>\n",
       "      <th>year_week</th>\n",
       "      <th>week_total</th>\n",
       "    </tr>\n",
       "  </thead>\n",
       "  <tbody>\n",
       "    <tr>\n",
       "      <th>0</th>\n",
       "      <td>Organic</td>\n",
       "      <td>2020_51</td>\n",
       "      <td>2536</td>\n",
       "    </tr>\n",
       "    <tr>\n",
       "      <th>1</th>\n",
       "      <td>Organic</td>\n",
       "      <td>2020_40</td>\n",
       "      <td>3362</td>\n",
       "    </tr>\n",
       "    <tr>\n",
       "      <th>2</th>\n",
       "      <td>Organic</td>\n",
       "      <td>2020_41</td>\n",
       "      <td>5468</td>\n",
       "    </tr>\n",
       "    <tr>\n",
       "      <th>3</th>\n",
       "      <td>Organic</td>\n",
       "      <td>2020_42</td>\n",
       "      <td>5552</td>\n",
       "    </tr>\n",
       "    <tr>\n",
       "      <th>4</th>\n",
       "      <td>Organic</td>\n",
       "      <td>2020_43</td>\n",
       "      <td>5998</td>\n",
       "    </tr>\n",
       "  </tbody>\n",
       "</table>\n",
       "</div>"
      ],
      "text/plain": [
       "      name year_week  week_total\n",
       "0  Organic   2020_51        2536\n",
       "1  Organic   2020_40        3362\n",
       "2  Organic   2020_41        5468\n",
       "3  Organic   2020_42        5552\n",
       "4  Organic   2020_43        5998"
      ]
     },
     "execution_count": 34,
     "metadata": {},
     "output_type": "execute_result"
    }
   ],
   "source": [
    "df.drop(columns=[\"value\",\"week_max\"],inplace=True, errors=\"ignore\")\n",
    "df.head()"
   ]
  },
  {
   "cell_type": "code",
   "execution_count": 35,
   "metadata": {},
   "outputs": [
    {
     "data": {
      "text/html": [
       "<div>\n",
       "<style scoped>\n",
       "    .dataframe tbody tr th:only-of-type {\n",
       "        vertical-align: middle;\n",
       "    }\n",
       "\n",
       "    .dataframe tbody tr th {\n",
       "        vertical-align: top;\n",
       "    }\n",
       "\n",
       "    .dataframe thead th {\n",
       "        text-align: right;\n",
       "    }\n",
       "</style>\n",
       "<table border=\"1\" class=\"dataframe\">\n",
       "  <thead>\n",
       "    <tr style=\"text-align: right;\">\n",
       "      <th></th>\n",
       "      <th>name</th>\n",
       "      <th>count</th>\n",
       "    </tr>\n",
       "    <tr>\n",
       "      <th>year_week</th>\n",
       "      <th></th>\n",
       "      <th></th>\n",
       "    </tr>\n",
       "  </thead>\n",
       "  <tbody>\n",
       "    <tr>\n",
       "      <th>2020_40</th>\n",
       "      <td>Organic</td>\n",
       "      <td>3362</td>\n",
       "    </tr>\n",
       "    <tr>\n",
       "      <th>2020_41</th>\n",
       "      <td>Organic</td>\n",
       "      <td>5468</td>\n",
       "    </tr>\n",
       "    <tr>\n",
       "      <th>2020_42</th>\n",
       "      <td>Organic</td>\n",
       "      <td>5552</td>\n",
       "    </tr>\n",
       "    <tr>\n",
       "      <th>2020_43</th>\n",
       "      <td>Organic</td>\n",
       "      <td>5998</td>\n",
       "    </tr>\n",
       "    <tr>\n",
       "      <th>2020_44</th>\n",
       "      <td>Organic</td>\n",
       "      <td>6148</td>\n",
       "    </tr>\n",
       "  </tbody>\n",
       "</table>\n",
       "</div>"
      ],
      "text/plain": [
       "              name  count\n",
       "year_week                \n",
       "2020_40    Organic   3362\n",
       "2020_41    Organic   5468\n",
       "2020_42    Organic   5552\n",
       "2020_43    Organic   5998\n",
       "2020_44    Organic   6148"
      ]
     },
     "execution_count": 35,
     "metadata": {},
     "output_type": "execute_result"
    }
   ],
   "source": [
    "# Use the year_week as index and sort\n",
    "df.set_index('year_week',inplace=True)\n",
    "df.sort_index(inplace=True)\n",
    "df.rename(columns = {'week_total':'count'}, inplace = True)\n",
    "df.head()"
   ]
  },
  {
   "cell_type": "code",
   "execution_count": 36,
   "metadata": {},
   "outputs": [],
   "source": [
    "# Dataframe now shows the count of the most popular name indexed by each week\n",
    "# Saved to S3 in lambda function"
   ]
  }
 ],
 "metadata": {
  "kernelspec": {
   "display_name": "Python 3 (ipykernel)",
   "language": "python",
   "name": "python3"
  },
  "language_info": {
   "codemirror_mode": {
    "name": "ipython",
    "version": 3
   },
   "file_extension": ".py",
   "mimetype": "text/x-python",
   "name": "python",
   "nbconvert_exporter": "python",
   "pygments_lexer": "ipython3",
   "version": "3.8.7"
  }
 },
 "nbformat": 4,
 "nbformat_minor": 1
}